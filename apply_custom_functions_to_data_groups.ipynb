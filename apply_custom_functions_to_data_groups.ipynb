{
 "cells": [
  {
   "cell_type": "markdown",
   "metadata": {},
   "source": [
    "# Applying Custom Functions to Groups of Data in Pandas\n",
    "\n",
    "+ Author: Casey Whorton\n",
    "+ Last Edited: 2/1/2021"
   ]
  },
  {
   "cell_type": "markdown",
   "metadata": {},
   "source": [
    "## Import Packages"
   ]
  },
  {
   "cell_type": "code",
   "execution_count": 223,
   "metadata": {},
   "outputs": [],
   "source": [
    "import pandas as pd\n",
    "import numpy as np\n",
    "from sklearn import datasets"
   ]
  },
  {
   "cell_type": "markdown",
   "metadata": {},
   "source": [
    "## Import Toy Dataset"
   ]
  },
  {
   "cell_type": "code",
   "execution_count": 224,
   "metadata": {},
   "outputs": [],
   "source": [
    "iris = datasets.load_iris()\n",
    "\n",
    "data = pd.concat([pd.DataFrame(iris.target, columns = ['target']), pd.DataFrame(iris.data, columns = iris.feature_names)], axis = 1)\n",
    "\n",
    "def target_replace(x):\n",
    "    for i in [0,1,2]:\n",
    "        if x == i:\n",
    "            return(iris.target_names[i])\n",
    "        \n",
    "data.target = data.target.apply(target_replace)   "
   ]
  },
  {
   "cell_type": "markdown",
   "metadata": {},
   "source": [
    "## How Aggregate Functions are Applied to Groups\n",
    "\n",
    "Typically, a first round analysis might include examining descriptive statistics of your dataset. If you have one table that you are looking at in particular, something like the \"describe\" method can reveal some key information about your columns such as the number of non-NULL values and the distribution of numerical features. A slightly deeper question to ask is \"what are some of these descriptive statistics per group?\".  Grouping the data together based on the similar values in a single column and taking the maximum value over all rows in each group looks like this:"
   ]
  },
  {
   "cell_type": "code",
   "execution_count": 225,
   "metadata": {},
   "outputs": [
    {
     "data": {
      "text/html": [
       "<div>\n",
       "<style scoped>\n",
       "    .dataframe tbody tr th:only-of-type {\n",
       "        vertical-align: middle;\n",
       "    }\n",
       "\n",
       "    .dataframe tbody tr th {\n",
       "        vertical-align: top;\n",
       "    }\n",
       "\n",
       "    .dataframe thead th {\n",
       "        text-align: right;\n",
       "    }\n",
       "</style>\n",
       "<table border=\"1\" class=\"dataframe\">\n",
       "  <thead>\n",
       "    <tr style=\"text-align: right;\">\n",
       "      <th></th>\n",
       "      <th>sepal length (cm)</th>\n",
       "      <th>sepal width (cm)</th>\n",
       "      <th>petal length (cm)</th>\n",
       "      <th>petal width (cm)</th>\n",
       "    </tr>\n",
       "    <tr>\n",
       "      <th>target</th>\n",
       "      <th></th>\n",
       "      <th></th>\n",
       "      <th></th>\n",
       "      <th></th>\n",
       "    </tr>\n",
       "  </thead>\n",
       "  <tbody>\n",
       "    <tr>\n",
       "      <th>setosa</th>\n",
       "      <td>5.8</td>\n",
       "      <td>4.4</td>\n",
       "      <td>1.9</td>\n",
       "      <td>0.6</td>\n",
       "    </tr>\n",
       "    <tr>\n",
       "      <th>versicolor</th>\n",
       "      <td>7.0</td>\n",
       "      <td>3.4</td>\n",
       "      <td>5.1</td>\n",
       "      <td>1.8</td>\n",
       "    </tr>\n",
       "    <tr>\n",
       "      <th>virginica</th>\n",
       "      <td>7.9</td>\n",
       "      <td>3.8</td>\n",
       "      <td>6.9</td>\n",
       "      <td>2.5</td>\n",
       "    </tr>\n",
       "  </tbody>\n",
       "</table>\n",
       "</div>"
      ],
      "text/plain": [
       "            sepal length (cm)  sepal width (cm)  petal length (cm)  \\\n",
       "target                                                               \n",
       "setosa                    5.8               4.4                1.9   \n",
       "versicolor                7.0               3.4                5.1   \n",
       "virginica                 7.9               3.8                6.9   \n",
       "\n",
       "            petal width (cm)  \n",
       "target                        \n",
       "setosa                   0.6  \n",
       "versicolor               1.8  \n",
       "virginica                2.5  "
      ]
     },
     "execution_count": 225,
     "metadata": {},
     "output_type": "execute_result"
    }
   ],
   "source": [
    "data.groupby(['target']).max()"
   ]
  },
  {
   "cell_type": "markdown",
   "metadata": {},
   "source": [
    "The maximum sepal length (in centimeters) is 5.8 for the \"setosa\" group. This is great but if all we cared about were descriptive statistics at group levels then we could probably program a computer to crank through all the possibilities and return some intersesting findings. What I find comes up more often is the need to apply a custom function to each group in a dataframe. Next, I'll create a custom function that can't be easily duplicated with a groupby aggregate function."
   ]
  },
  {
   "cell_type": "markdown",
   "metadata": {},
   "source": [
    "# Define a Custom Function\n",
    "\n",
    "This could be just about anything. Here, I am interested in the ratio of the range of sepal lengths to petal lengths.  Why?  Maybe I'm interested in seeing which type of flower has greater sepal variation to petal variation. Who knows. The point is that this is a specific question you want answered, and normally you might do a groupby with the max aggregate, then the mins, save those results, and get the ratios. It's possible, but why not execute a custom function over the groups? We're not limited to aggregates, you could find the 2nd value in a dataframe's column if you wanted."
   ]
  },
  {
   "cell_type": "code",
   "execution_count": 226,
   "metadata": {},
   "outputs": [],
   "source": [
    "def find_ratio(df):\n",
    "    \"\"\"\n",
    "    Calculates the ratio of the sepal length range to the petal length range for a pandas dataframe.\n",
    "    \n",
    "    Arguments:\n",
    "    ----------\n",
    "        df (pandas dataframe): a dataframe to calculate the ratio over\n",
    "        \n",
    "    Returns:\n",
    "    --------\n",
    "        ratio (numpy float): the calculated ratio\n",
    "    \"\"\"\n",
    "    ratio = (df['sepal length (cm)'].max() - df['sepal length (cm)'].min())/(df['petal length (cm)'].max() - df['petal length (cm)'].min())\n",
    "    \n",
    "    return(ratio)"
   ]
  },
  {
   "cell_type": "markdown",
   "metadata": {},
   "source": [
    "## Checkout The Groupby Object"
   ]
  },
  {
   "cell_type": "code",
   "execution_count": 227,
   "metadata": {},
   "outputs": [],
   "source": [
    "#for i in data.groupby(['target']):\n",
    "#    print(i)"
   ]
  },
  {
   "cell_type": "markdown",
   "metadata": {},
   "source": [
    "Notice that every element in the groupby is a tuple, with the first element containing whatever you grouped the data by (this can be more than one column, in which case another tuple) and the grouped data (a pandas dataframe). This means that whatever function you use on the groupby elements needs to take both the groups and dataframes."
   ]
  },
  {
   "cell_type": "markdown",
   "metadata": {},
   "source": [
    "## The First Way\n",
    "\n",
    "Simply use the apply method to each dataframe in the groupby object. This is the most straightforward way and the easiest to understand.  Notice that the function takes a dataframe as its only argument, so any code within the custom function needs to work on a pandas dataframe."
   ]
  },
  {
   "cell_type": "code",
   "execution_count": 228,
   "metadata": {},
   "outputs": [
    {
     "data": {
      "text/plain": [
       "target\n",
       "setosa        1.666667\n",
       "versicolor    1.000000\n",
       "virginica     1.250000\n",
       "dtype: float64"
      ]
     },
     "execution_count": 228,
     "metadata": {},
     "output_type": "execute_result"
    }
   ],
   "source": [
    "data.groupby(['target']).apply(find_ratio)"
   ]
  },
  {
   "cell_type": "markdown",
   "metadata": {},
   "source": [
    "It is also possible to accomplish this with a lambda function, executed over each dataframe."
   ]
  },
  {
   "cell_type": "code",
   "execution_count": 229,
   "metadata": {},
   "outputs": [
    {
     "data": {
      "text/plain": [
       "target\n",
       "setosa        1.666667\n",
       "versicolor    1.000000\n",
       "virginica     1.250000\n",
       "dtype: float64"
      ]
     },
     "execution_count": 229,
     "metadata": {},
     "output_type": "execute_result"
    }
   ],
   "source": [
    "data.groupby(['target']).apply(lambda x: find_ratio(x))"
   ]
  },
  {
   "cell_type": "markdown",
   "metadata": {},
   "source": [
    "## The Second Way\n",
    "\n",
    "Save the groupby element and execute the function for every element in the groupby object. This second option takes a little more work, but could be what you are looking for in terms of customization. While we applied our custom function to each dataframe directly before, we will need to rewrite the function slightly to accept the groupby element as the argument. But first, create a groupby object for the column(s) you want to groupby and assign it a variable name. Next, rewrite the function to work on each groupby in the groupby element. Note: a groupby object is iterable (meaning python can loop through it) and contains both the levels of the grouping and the resulting dataframe."
   ]
  },
  {
   "cell_type": "code",
   "execution_count": 230,
   "metadata": {},
   "outputs": [],
   "source": [
    "# We will call the groupby object \"grouping\"\n",
    "\n",
    "grouping = data.groupby(['target'])"
   ]
  },
  {
   "cell_type": "code",
   "execution_count": 231,
   "metadata": {},
   "outputs": [
    {
     "data": {
      "text/plain": [
       "<pandas.core.groupby.generic.DataFrameGroupBy object at 0x0000023D2E89E760>"
      ]
     },
     "execution_count": 231,
     "metadata": {},
     "output_type": "execute_result"
    }
   ],
   "source": [
    "grouping"
   ]
  },
  {
   "cell_type": "code",
   "execution_count": 232,
   "metadata": {},
   "outputs": [
    {
     "name": "stdout",
     "output_type": "stream",
     "text": [
      "setosa\n",
      "versicolor\n",
      "virginica\n"
     ]
    }
   ],
   "source": [
    "for i in grouping:\n",
    "    print(i[0])"
   ]
  },
  {
   "cell_type": "code",
   "execution_count": 233,
   "metadata": {},
   "outputs": [
    {
     "name": "stdout",
     "output_type": "stream",
     "text": [
      "   target  sepal length (cm)  sepal width (cm)  petal length (cm)  \\\n",
      "0  setosa                5.1               3.5                1.4   \n",
      "1  setosa                4.9               3.0                1.4   \n",
      "\n",
      "   petal width (cm)  \n",
      "0               0.2  \n",
      "1               0.2  \n",
      "        target  sepal length (cm)  sepal width (cm)  petal length (cm)  \\\n",
      "50  versicolor                7.0               3.2                4.7   \n",
      "51  versicolor                6.4               3.2                4.5   \n",
      "\n",
      "    petal width (cm)  \n",
      "50               1.4  \n",
      "51               1.5  \n",
      "        target  sepal length (cm)  sepal width (cm)  petal length (cm)  \\\n",
      "100  virginica                6.3               3.3                6.0   \n",
      "101  virginica                5.8               2.7                5.1   \n",
      "\n",
      "     petal width (cm)  \n",
      "100               2.5  \n",
      "101               1.9  \n"
     ]
    }
   ],
   "source": [
    "for i in grouping:\n",
    "    print(i[1].head(2))"
   ]
  },
  {
   "cell_type": "code",
   "execution_count": 234,
   "metadata": {},
   "outputs": [],
   "source": [
    "def find_ratio_for_group(grouping):\n",
    "    \"\"\"\n",
    "    Calculates the ratio of the sepal length range to the petal length range for a pandas groupby element.\n",
    "    \n",
    "    Arguments:\n",
    "    ----------\n",
    "        grouping (pandas groupby): a groupby element to calculate the ratio over\n",
    "        \n",
    "    Returns:\n",
    "    --------\n",
    "        {group_label: ratio} (dict): a dictionary of the group label and calculated ratio\n",
    "    \"\"\"\n",
    "    \n",
    "    (group_label, df) = grouping # in our case we know it is a single column, but this could be used on multiple columns as well\n",
    "    \n",
    "    ratio = (df['sepal length (cm)'].max() - df['sepal length (cm)'].min())/(df['petal length (cm)'].max() - df['petal length (cm)'].min())\n",
    "    \n",
    "    return({group_label: ratio})"
   ]
  },
  {
   "cell_type": "markdown",
   "metadata": {},
   "source": [
    "Execute the function over the groupby element in a loop or using a list comprehension. I'm choosing to update a dictionary in the first example and to append to a list in the second example. Each method has its advantages."
   ]
  },
  {
   "cell_type": "code",
   "execution_count": 235,
   "metadata": {},
   "outputs": [
    {
     "data": {
      "text/html": [
       "<div>\n",
       "<style scoped>\n",
       "    .dataframe tbody tr th:only-of-type {\n",
       "        vertical-align: middle;\n",
       "    }\n",
       "\n",
       "    .dataframe tbody tr th {\n",
       "        vertical-align: top;\n",
       "    }\n",
       "\n",
       "    .dataframe thead th {\n",
       "        text-align: right;\n",
       "    }\n",
       "</style>\n",
       "<table border=\"1\" class=\"dataframe\">\n",
       "  <thead>\n",
       "    <tr style=\"text-align: right;\">\n",
       "      <th></th>\n",
       "      <th>ratio</th>\n",
       "    </tr>\n",
       "  </thead>\n",
       "  <tbody>\n",
       "    <tr>\n",
       "      <th>setosa</th>\n",
       "      <td>1.666667</td>\n",
       "    </tr>\n",
       "    <tr>\n",
       "      <th>versicolor</th>\n",
       "      <td>1.000000</td>\n",
       "    </tr>\n",
       "    <tr>\n",
       "      <th>virginica</th>\n",
       "      <td>1.250000</td>\n",
       "    </tr>\n",
       "  </tbody>\n",
       "</table>\n",
       "</div>"
      ],
      "text/plain": [
       "               ratio\n",
       "setosa      1.666667\n",
       "versicolor  1.000000\n",
       "virginica   1.250000"
      ]
     },
     "execution_count": 235,
     "metadata": {},
     "output_type": "execute_result"
    }
   ],
   "source": [
    "# Using a dictionary\n",
    "\n",
    "mylist = dict()\n",
    "\n",
    "for i in grouping:\n",
    "    \n",
    "    mylist.update(find_ratio_for_group(i))\n",
    "    \n",
    "pd.DataFrame(data = mylist.values(), index = mylist.keys(), columns = ['ratio'])\n",
    "\n",
    "# Using a list comprehension\n",
    "\n",
    "ratios = [find_ratio_for_group(i).values() for i in grouping]\n",
    "\n",
    "pd.DataFrame(data = ratios, index = grouping.groups, columns = ['ratio'])"
   ]
  },
  {
   "cell_type": "markdown",
   "metadata": {},
   "source": [
    "# References\n",
    "\n",
    "+ https://pandas.pydata.org/pandas-docs/stable/user_guide/groupby.html"
   ]
  },
  {
   "cell_type": "markdown",
   "metadata": {},
   "source": [
    "# END"
   ]
  }
 ],
 "metadata": {
  "kernelspec": {
   "display_name": "Python 3",
   "language": "python",
   "name": "python3"
  },
  "language_info": {
   "codemirror_mode": {
    "name": "ipython",
    "version": 3
   },
   "file_extension": ".py",
   "mimetype": "text/x-python",
   "name": "python",
   "nbconvert_exporter": "python",
   "pygments_lexer": "ipython3",
   "version": "3.8.5"
  }
 },
 "nbformat": 4,
 "nbformat_minor": 4
}
